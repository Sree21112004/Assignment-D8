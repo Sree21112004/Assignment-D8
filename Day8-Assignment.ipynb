{
 "cells": [
  {
   "cell_type": "markdown",
   "metadata": {},
   "source": [
    "# Day8-Assignment"
   ]
  },
  {
   "cell_type": "markdown",
   "metadata": {},
   "source": [
    "## Assignment-1"
   ]
  },
  {
   "cell_type": "markdown",
   "metadata": {},
   "source": [
    "## Question "
   ]
  },
  {
   "cell_type": "markdown",
   "metadata": {},
   "source": [
    "### Write a Decorator Function for your taking Input for you any king of Function you want to build."
   ]
  },
  {
   "cell_type": "markdown",
   "metadata": {},
   "source": [
    "## Answer"
   ]
  },
  {
   "cell_type": "code",
   "execution_count": 10,
   "metadata": {},
   "outputs": [],
   "source": [
    "def fib(n):\n",
    "    if n < 2:\n",
    "        return n\n",
    "    else:\n",
    "        return fib(n-1) + fib(n-2)"
   ]
  },
  {
   "cell_type": "code",
   "execution_count": 11,
   "metadata": {},
   "outputs": [
    {
     "data": {
      "text/plain": [
       "6765"
      ]
     },
     "execution_count": 11,
     "metadata": {},
     "output_type": "execute_result"
    }
   ],
   "source": [
    "fib(20)"
   ]
  },
  {
   "cell_type": "code",
   "execution_count": 12,
   "metadata": {},
   "outputs": [
    {
     "data": {
      "text/plain": [
       "10946"
      ]
     },
     "execution_count": 12,
     "metadata": {},
     "output_type": "execute_result"
    }
   ],
   "source": [
    "fib(21)"
   ]
  },
  {
   "cell_type": "code",
   "execution_count": 13,
   "metadata": {},
   "outputs": [
    {
     "data": {
      "text/plain": [
       "17711"
      ]
     },
     "execution_count": 13,
     "metadata": {},
     "output_type": "execute_result"
    }
   ],
   "source": [
    "fib(22)"
   ]
  },
  {
   "cell_type": "markdown",
   "metadata": {},
   "source": [
    "## Assignment- 2"
   ]
  },
  {
   "cell_type": "markdown",
   "metadata": {},
   "source": [
    "### For this Challenge you need to Develop a Python program to open a file in read only mode and try writing something to it and handle the Subsequent errors"
   ]
  },
  {
   "cell_type": "code",
   "execution_count": 22,
   "metadata": {},
   "outputs": [
    {
     "name": "stdout",
     "output_type": "stream",
     "text": [
      "Enter two numbers, separated by a comma : 5,11\n",
      "Result is 0.45454545454545453\n",
      "No exceptions\n",
      "This will execute no matter what\n"
     ]
    }
   ],
   "source": [
    "try:\n",
    "    num1, num2 = eval(input(\"Enter two numbers, separated by a comma : \"))\n",
    "    result = num1 / num2\n",
    "    print(\"Result is\", result)\n",
    "\n",
    "except ZeroDivisionError:\n",
    "    print(\"Division by zero is error !!\")\n",
    "\n",
    "except SyntaxError:\n",
    "    print(\"Comma is missing. Enter numbers separated by comma like this 1, 2\")\n",
    "\n",
    "except:\n",
    "    print(\"Wrong input\")\n",
    "\n",
    "else:\n",
    "    print(\"No exceptions\")\n",
    "\n",
    "finally:\n",
    "    print(\"This will execute no matter what\")"
   ]
  },
  {
   "cell_type": "code",
   "execution_count": 18,
   "metadata": {},
   "outputs": [
    {
     "name": "stdout",
     "output_type": "stream",
     "text": [
      "Enter two numbers, separated by a comma : 4,13\n",
      "Result is 0.3076923076923077\n",
      "No exceptions\n",
      "This will execute no matter what\n"
     ]
    }
   ],
   "source": [
    "try:\n",
    "    num1, num2 = eval(input(\"Enter two numbers, separated by a comma : \"))\n",
    "    result = num1 / num2\n",
    "    print(\"Result is\", result)\n",
    "\n",
    "except ZeroDivisionError:\n",
    "    print(\"Division by zero is error !!\")\n",
    "\n",
    "except SyntaxError:\n",
    "    print(\"Comma is missing. Enter numbers separated by comma like this 1, 2\")\n",
    "\n",
    "except:\n",
    "    print(\"Wrong input\")\n",
    "\n",
    "else:\n",
    "    print(\"No exceptions\")\n",
    "\n",
    "finally:\n",
    "    print(\"This will execute no matter what\")"
   ]
  },
  {
   "cell_type": "markdown",
   "metadata": {},
   "source": [
    "## Thank You"
   ]
  }
 ],
 "metadata": {
  "kernelspec": {
   "display_name": "Python 3",
   "language": "python",
   "name": "python3"
  },
  "language_info": {
   "codemirror_mode": {
    "name": "ipython",
    "version": 3
   },
   "file_extension": ".py",
   "mimetype": "text/x-python",
   "name": "python",
   "nbconvert_exporter": "python",
   "pygments_lexer": "ipython3",
   "version": "3.8.3"
  }
 },
 "nbformat": 4,
 "nbformat_minor": 4
}
